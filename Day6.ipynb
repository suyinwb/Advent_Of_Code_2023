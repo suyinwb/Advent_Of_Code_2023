{
 "cells": [
  {
   "cell_type": "code",
   "execution_count": 101,
   "id": "f113ae03",
   "metadata": {},
   "outputs": [],
   "source": [
    "import pprint\n",
    "import pandas as pd\n",
    "import numpy as np\n",
    "import re\n",
    "import time\n",
    "import datetime\n",
    "\n",
    "import math\n",
    "import cmath\n",
    "from collections import Counter"
   ]
  },
  {
   "cell_type": "markdown",
   "id": "fad337e1",
   "metadata": {},
   "source": [
    "For example:\n",
    "\n",
    "Time:      7  15   30\n",
    "Distance:  9  40  200\n",
    "This document describes three races:\n",
    "\n",
    "The first race lasts 7 milliseconds. The record distance in this race is 9 millimeters.\n",
    "The second race lasts 15 milliseconds. The record distance in this race is 40 millimeters.\n",
    "The third race lasts 30 milliseconds. The record distance in this race is 200 millimeters.\n",
    "\n",
    "\n",
    "Starting Speed: 0 millimeters per millisecond\n",
    "\n",
    "Your toy boat has a starting speed of zero millimeters per millisecond. For each whole millisecond you spend at the beginning of the race holding down the button, the boat's speed increases by one millimeter per millisecond.\n",
    "\n",
    "So, because the first race lasts 7 milliseconds, you only have a few options:\n",
    "\n",
    "Don't hold the button at all (that is, hold it for 0 milliseconds) at the start of the race. The boat won't move; it will have traveled 0 millimeters by the end of the race.\n",
    "Hold the button for 1 millisecond at the start of the race. Then, the boat will travel at a speed of 1 millimeter per millisecond for 6 milliseconds, reaching a total distance traveled of 6 millimeters.\n",
    "Hold the button for 2 milliseconds, giving the boat a speed of 2 millimeters per millisecond. It will then get 5 milliseconds to move, reaching a total distance of 10 millimeters.\n",
    "Hold the button for 3 milliseconds. After its remaining 4 milliseconds of travel time, the boat will have gone 12 millimeters.\n",
    "Hold the button for 4 milliseconds. After its remaining 3 milliseconds of travel time, the boat will have gone 12 millimeters.\n",
    "Hold the button for 5 milliseconds, causing the boat to travel a total of 10 millimeters.\n",
    "Hold the button for 6 milliseconds, causing the boat to travel a total of 6 millimeters.\n",
    "Hold the button for 7 milliseconds. That's the entire duration of the race. You never let go of the button. The boat can't move until you let go of the button. Please make sure you let go of the button so the boat gets to move. 0 millimeters.\n",
    "Since the current record for this race is 9 millimeters, there are actually 4 different ways you could win: you could hold the button for 2, 3, 4, or 5 milliseconds at the start of the race.\n",
    "\n",
    "In the second race, you could hold the button for at least 4 milliseconds and at most 11 milliseconds and beat the record, a total of 8 different ways to win.\n",
    "\n",
    "In the third race, you could hold the button for at least 11 milliseconds and no more than 19 milliseconds and still beat the record, a total of 9 ways you could win.\n",
    "\n",
    "To see how much margin of error you have, determine the number of ways you can beat the record in each race; in this example, if you multiply these values together, you get 288 (4 * 8 * 9).\n",
    "\n",
    "Determine the number of ways you could beat the record in each race. What do you get if you multiply these numbers together?"
   ]
  },
  {
   "cell_type": "code",
   "execution_count": 95,
   "id": "b9af1a71",
   "metadata": {},
   "outputs": [
    {
     "name": "stdout",
     "output_type": "stream",
     "text": [
      "Time:        46     85     75     82\n",
      "Distance:   208   1412   1257   1410\n",
      "\n"
     ]
    }
   ],
   "source": [
    "# Read the txt file\n",
    "\n",
    "file_path = 'resources/day6_input.txt'\n",
    "\n",
    "# Open the file and read its contents using readlines()\n",
    "with open(file_path, 'r') as file:\n",
    "    text = file.read()\n",
    "print(text)"
   ]
  },
  {
   "cell_type": "markdown",
   "id": "ed1d8450",
   "metadata": {},
   "source": [
    "## PART 1"
   ]
  },
  {
   "cell_type": "markdown",
   "id": "79304e77-85e9-48b2-a01e-5990153cb8e9",
   "metadata": {},
   "source": [
    "distance = hold * (Time - hold)\n",
    "\n",
    "d = h*(T-h)\n",
    "\n",
    "d = Th - h^2\n",
    "\n",
    "-h^2 + T*h = D\n",
    "-h^2 + T*h - D= 0\n",
    "\n",
    "\n",
    "if we already know distance, then we don't need to compute for each hold. Just find the ones that can output distance (d).\n",
    "\n",
    "The standard form of a quadratic equation is:\n",
    "ax2 + bx + c = 0, where\n",
    "a, b and c are real numbers and\n",
    "a ≠ 0\n",
    "\n",
    "c = -D\n",
    "\n",
    "The solutions of this quadratic equation is given by:\n",
    "\n",
    "(-b ± (b ** 2 - 4 * a * c) ** 0.5) / (2 * a)\n",
    "\n",
    "Source Code\n",
    "#Solve the quadratic equation ax**2 + bx + c = 0\n",
    "\n",
    "#import complex math module\n",
    "import cmath\n",
    "\n",
    "a = 1\n",
    "b = 5\n",
    "c = 6\n",
    "\n",
    "#calculate the discriminant\n",
    "d = (b**2) - (4*a*c)\n",
    "\n",
    "#find two solutions\n",
    "sol1 = (-b-cmath.sqrt(d))/(2*a)\n",
    "sol2 = (-b+cmath.sqrt(d))/(2*a)\n",
    "\n",
    "B1 = (T + SQRT(T*T - 4 * D))/2\n",
    "B2 = (T - SQRT(T*T - 4 * D))/2\n",
    "\n",
    "print('The solution are {0} and {1}'.format(sol1,sol2))\n"
   ]
  },
  {
   "cell_type": "markdown",
   "id": "ab385744-cc14-4d5f-b48b-0ad05b3acbb3",
   "metadata": {},
   "source": [
    "Since the parabola is symmetric, we know that the last winning game is equal to the total time for the race minus the first winning game,\n",
    "and all games in between are also won. So you only need to find the first winning game and calculate the total amount as last - first + 1."
   ]
  },
  {
   "cell_type": "code",
   "execution_count": 96,
   "id": "812095d6",
   "metadata": {},
   "outputs": [
    {
     "name": "stdout",
     "output_type": "stream",
     "text": [
      "Time:        46     85     75     82\n",
      "Distance:   208   1412   1257   1410\n"
     ]
    }
   ],
   "source": [
    "#Find all the seed numbers in this file\n",
    "\n",
    "lines = text.splitlines()\n",
    "\n",
    "for line in lines:\n",
    "    print(line)"
   ]
  },
  {
   "cell_type": "code",
   "execution_count": 100,
   "id": "0e8fc50e",
   "metadata": {},
   "outputs": [
    {
     "name": "stdout",
     "output_type": "stream",
     "text": [
      "[46, 85, 75, 82]\n",
      "[208, 1412, 1257, 1410]\n",
      "35, 40.91647286716892, 5.083527132831083\n",
      "40, 62.35572965166478, 22.64427034833522\n",
      "24, 49.71679172287062, 25.283208277129383\n",
      "33, 57.46207763315433, 24.53792236684567\n",
      "[35, 40, 24, 33]\n"
     ]
    },
    {
     "ename": "AttributeError",
     "evalue": "module 'math' has no attribute 'prod'",
     "output_type": "error",
     "traceback": [
      "\u001b[0;31m---------------------------------------------------------------------------\u001b[0m",
      "\u001b[0;31mAttributeError\u001b[0m                            Traceback (most recent call last)",
      "\u001b[0;32m<ipython-input-100-bc6812ea3197>\u001b[0m in \u001b[0;36m<module>\u001b[0;34m\u001b[0m\n\u001b[1;32m     29\u001b[0m \u001b[0;34m\u001b[0m\u001b[0m\n\u001b[1;32m     30\u001b[0m \u001b[0mprint\u001b[0m\u001b[0;34m(\u001b[0m\u001b[0;34mf'{totals}'\u001b[0m\u001b[0;34m)\u001b[0m\u001b[0;34m\u001b[0m\u001b[0;34m\u001b[0m\u001b[0m\n\u001b[0;32m---> 31\u001b[0;31m \u001b[0mprint\u001b[0m\u001b[0;34m(\u001b[0m\u001b[0;34mf'{math.prod(totals)}'\u001b[0m\u001b[0;34m)\u001b[0m\u001b[0;34m\u001b[0m\u001b[0;34m\u001b[0m\u001b[0m\n\u001b[0m",
      "\u001b[0;31mAttributeError\u001b[0m: module 'math' has no attribute 'prod'"
     ]
    }
   ],
   "source": [
    "time = re.findall(r'\\d+', lines[0])\n",
    "distance = re.findall(r'\\d+', lines[1])\n",
    "\n",
    "time = [int(tim) for tim in time]\n",
    "distance = [int(dist) for dist in distance]\n",
    "\n",
    "print(time)\n",
    "print(distance)\n",
    "\n",
    "totals = [0] * len(distance) # Output: [0, 0, 0, 0, 0]\n",
    "\n",
    "for i, value in enumerate(time):\n",
    "    # hold = time[i] - (hold * 2 + 1\n",
    "    # for i in range(0,len(time),1): #range(start, stop, step)\n",
    "    hold1 = (time[i] + math.sqrt(time[i]**2 - 4*distance[i]))/2\n",
    "    hold2 = (time[i] - math.sqrt(time[i]**2 - 4*distance[i]))/2\n",
    "    if hold2.real.is_integer():\n",
    "        total =  int(hold1.real) - int(hold2.real) - 1\n",
    "        totals[i] = total\n",
    "        print(f'{total}, {hold1}, {hold2}')\n",
    "    else:\n",
    "        total =  int(hold1.real) - int(hold2.real)\n",
    "        totals[i] = total\n",
    "        print(f'{total}, {hold1}, {hold2}')\n",
    "    # mid_point_lower = math.floor(time[i]/2)\n",
    "    # mid_point_higher = math.ceil(time[i]/2)\n",
    "    # print(f'{mid_point_lower}')\n",
    "    # print(f'{mid_point_higher}')\n",
    "    \n",
    "print(f'{totals}')\n",
    "print(f'{math.prod(totals)}')"
   ]
  },
  {
   "cell_type": "code",
   "execution_count": 103,
   "id": "f914ffe8-b0c6-4455-bbeb-60d1f250486a",
   "metadata": {},
   "outputs": [
    {
     "name": "stdout",
     "output_type": "stream",
     "text": [
      "1108800\n"
     ]
    }
   ],
   "source": [
    "# print(math.prod(totals))\n",
    "\n",
    "from functools import reduce\n",
    "import operator\n",
    "\n",
    "print(f'{reduce(operator.mul, totals, 1)}')"
   ]
  },
  {
   "cell_type": "code",
   "execution_count": 53,
   "id": "7b09e901-571c-4ba9-949c-cc24534e35af",
   "metadata": {},
   "outputs": [
    {
     "name": "stdout",
     "output_type": "stream",
     "text": [
      "The solution are (-0.14285714285714285-1.124858267715973j) and (-0.14285714285714285+1.124858267715973j)\n"
     ]
    }
   ],
   "source": [
    "# import complex math module\n",
    "import cmath\n",
    "\n",
    "a = 7\n",
    "b = 2\n",
    "c = 9\n",
    "\n",
    "# calculate the discriminant\n",
    "d = (b**2) - (4*a*c)\n",
    "\n",
    "# find two solutions\n",
    "sol1 = (-b-cmath.sqrt(d))/(2*a)\n",
    "sol2 = (-b+cmath.sqrt(d))/(2*a)\n",
    "\n",
    "print('The solution are {0} and {1}'.format(sol1,sol2))"
   ]
  },
  {
   "cell_type": "code",
   "execution_count": null,
   "id": "da20cf9e-7849-4a92-b86a-a950a1e65258",
   "metadata": {},
   "outputs": [],
   "source": []
  },
  {
   "cell_type": "markdown",
   "id": "20269baf",
   "metadata": {},
   "source": [
    "## PART 2"
   ]
  },
  {
   "cell_type": "code",
   "execution_count": 110,
   "id": "b8c9a584",
   "metadata": {},
   "outputs": [
    {
     "name": "stdout",
     "output_type": "stream",
     "text": [
      "46857582\n",
      "208141212571410\n",
      "36919753, 41888667.35793564, 4968914.6420643665\n"
     ]
    }
   ],
   "source": [
    "time = int(''.join(filter(str.isdigit, lines[0])))\n",
    "distance = int(''.join(filter(str.isdigit, lines[1])))\n",
    "\n",
    "print(time)\n",
    "print(distance)\n",
    "\n",
    "hold1 = (time + math.sqrt(time**2 - 4*distance))/2\n",
    "hold2 = (time - math.sqrt(time**2 - 4*distance))/2\n",
    "\n",
    "if hold2.real.is_integer():\n",
    "    total =  int(hold1.real) - int(hold2.real) - 1\n",
    "    totals[i] = total\n",
    "    print(f'{total}, {hold1}, {hold2}')\n",
    "else:\n",
    "    total =  int(hold1.real) - int(hold2.real)\n",
    "    print(f'{total}, {hold1}, {hold2}')"
   ]
  },
  {
   "cell_type": "code",
   "execution_count": null,
   "id": "a75b46a6",
   "metadata": {},
   "outputs": [],
   "source": []
  }
 ],
 "metadata": {
  "kernelspec": {
   "display_name": "PythonData",
   "language": "python",
   "name": "pythondata"
  },
  "language_info": {
   "codemirror_mode": {
    "name": "ipython",
    "version": 3
   },
   "file_extension": ".py",
   "mimetype": "text/x-python",
   "name": "python",
   "nbconvert_exporter": "python",
   "pygments_lexer": "ipython3",
   "version": "3.6.10"
  }
 },
 "nbformat": 4,
 "nbformat_minor": 5
}
