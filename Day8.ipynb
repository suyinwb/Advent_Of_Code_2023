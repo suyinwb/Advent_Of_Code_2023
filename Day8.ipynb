{
 "cells": [
  {
   "cell_type": "code",
   "execution_count": 1,
   "id": "f113ae03",
   "metadata": {},
   "outputs": [],
   "source": [
    "import pprint\n",
    "import pandas as pd\n",
    "import numpy as np\n",
    "import re\n",
    "import time\n",
    "import datetime\n",
    "\n",
    "from collections import Counter\n",
    "from itertools import cycle\n",
    "import math"
   ]
  },
  {
   "cell_type": "markdown",
   "id": "fad337e1",
   "metadata": {},
   "source": [
    "This format defines each node of the network individually. For example:\n",
    "\n",
    "RL\n",
    "\n",
    "AAA = (BBB, CCC)\n",
    "BBB = (DDD, EEE)\n",
    "CCC = (ZZZ, GGG)\n",
    "DDD = (DDD, DDD)\n",
    "EEE = (EEE, EEE)\n",
    "GGG = (GGG, GGG)\n",
    "ZZZ = (ZZZ, ZZZ)\n",
    "\n",
    "Starting with AAA, you need to look up the next element based on the next left/right instruction in your input. In this example, start with AAA and go right (R) by choosing the right element of AAA, CCC. Then, L means to choose the left element of CCC, ZZZ. By following the left/right instructions, you reach ZZZ in 2 steps.\n",
    "\n",
    "Of course, you might not find ZZZ right away. If you run out of left/right instructions, repeat the whole sequence of instructions as necessary: RL really means RLRLRLRLRLRLRLRL... and so on. For example, here is a situation that takes 6 steps to reach ZZZ:\n",
    "\n",
    "LLR\n",
    "\n",
    "AAA = (BBB, BBB)\n",
    "BBB = (AAA, ZZZ)\n",
    "ZZZ = (ZZZ, ZZZ)\n",
    "\n",
    "Starting at AAA, follow the left/right instructions. \n",
    "How many steps are required to reach ZZZ?\n",
    "\n",
    "Means to keep cycling the directions of LLR list; starting from 'AAA' until the end of the l/r points to 'ZZZ'. "
   ]
  },
  {
   "cell_type": "code",
   "execution_count": 2,
   "id": "aa0e1181",
   "metadata": {},
   "outputs": [],
   "source": [
    "# # Read the txt file\n",
    "\n",
    "# file_path = 'resources/day8_input_test.txt'\n",
    "\n",
    "# # Open the file and read its contents using readlines()\n",
    "# with open(file_path, 'r') as file:\n",
    "#     text = file.read()\n",
    "# print(text)\n",
    "\n",
    "# #Find all the directions & movements\n",
    "\n",
    "# alphabets = text.splitlines()\n",
    "# #print(alphabets[0])\n",
    "\n",
    "# directions = alphabets[0]\n",
    "# str_lr = alphabets[2:]\n",
    "# left_right = {lr[0:3]: {'L': lr[7:10], 'R': lr[12:15]} for lr in str_lr}\n",
    "\n",
    "# print(directions)\n",
    "# print(str_lr)\n",
    "# print(left_right)"
   ]
  },
  {
   "cell_type": "code",
   "execution_count": 14,
   "id": "c9a30f07",
   "metadata": {},
   "outputs": [
    {
     "name": "stdout",
     "output_type": "stream",
     "text": [
      "LLLLRLRLRRLRRRLRRLRLRRLRLLRRRLRRLRRRLRLLLRLRRLRLLRRRLRRLRLRRLLRRRLRRRLRLRRLRRRLRRLRRLLRRRLLLLRRLRRLRRLRRRLLLRLRLRLRRLRRRLRLRRRLRLRRRLRRLRRLLRRLLRLRRRLRLRRRLLLRLRRRLRLRRRLRRLRLRRLRRRLRRRLRRLLLRRRLRRLRRLRRLRRRLLLRRLRLRRRLLLLRRRLRRLRRRLLRLRLRRLLRRRLLRLRLRLRRLRRLRRRLRRLLRLRRLRRLLLLRRLRLRRLLRRLLRRLRRLRRRLLLRRRR\n",
      "{'BRR': {'L': 'LVC', 'R': 'FSJ'}, 'BHX': {'L': 'GMG', 'R': 'QTN'}, 'TJD': {'L': 'HQF', 'R': 'PBJ'}, 'JGN': {'L': 'JXR', 'R': 'DGK'}, 'NMC': {'L': 'VPC', 'R': 'CRF'}, 'DVJ': {'L': 'KMM', 'R': 'DFJ'}, 'LML': {'L': 'MTG', 'R': 'KNX'}, 'JKL': {'L': 'LRX', 'R': 'FRD'}, 'FJR': {'L': 'MHX', 'R': 'SBX'}, 'LMC': {'L': 'QNB', 'R': 'QCK'}, 'LJF': {'L': 'KCJ', 'R': 'HCT'}, 'KTL': {'L': 'XTG', 'R': 'NGM'}, 'GJB': {'L': 'KTQ', 'R': 'KTQ'}, 'BXR': {'L': 'TDR', 'R': 'KMK'}, 'GKB': {'L': 'VXT', 'R': 'NQR'}, 'PJL': {'L': 'FPL', 'R': 'TFX'}, 'LNZ': {'L': 'CJC', 'R': 'DQL'}, 'KCG': {'L': 'KDL', 'R': 'LMF'}, 'PGG': {'L': 'NDL', 'R': 'XXC'}, 'PMS': {'L': 'XQM', 'R': 'DFG'}, 'CJF': {'L': 'MCG', 'R': 'RTJ'}, 'JTH': {'L': 'PGS', 'R': 'SGZ'}, 'QBS': {'L': 'JSC', 'R': 'KMT'}, 'DQL': {'L': 'KRR', 'R': 'PBL'}, 'HSF': {'L': 'SNP', 'R': 'KJR'}, 'XVQ': {'L': 'VQR', 'R': 'HSX'}, 'QKF': {'L': 'PBT', 'R': 'XLC'}, 'DNA': {'L': 'DQL', 'R': 'CJC'}, 'LNF': {'L': 'RVC', 'R': 'TJD'}, 'MKT': {'L': 'LDX', 'R': 'CGC'}, 'BXP': {'L': 'RGX', 'R': 'TTR'}, 'SBX': {'L': 'PGT', 'R': 'JGN'}, 'JQK': {'L': 'HDQ', 'R': 'BHQ'}, 'MHL': {'L': 'TLX', 'R': 'JDN'}, 'BBD': {'L': 'QNJ', 'R': 'BRM'}, 'MTT': {'L': 'BVK', 'R': 'DXB'}, 'FVR': {'L': 'VLN', 'R': 'PRV'}, 'RVC': {'L': 'HQF', 'R': 'PBJ'}, 'LDX': {'L': 'LRS', 'R': 'KBV'}, 'BKF': {'L': 'PXH', 'R': 'TNB'}, 'BRM': {'L': 'XTV', 'R': 'NGH'}, 'DDL': {'L': 'JNG', 'R': 'SFF'}, 'BBT': {'L': 'BQJ', 'R': 'BCN'}, 'GPK': {'L': 'CVK', 'R': 'DDL'}, 'TLX': {'L': 'BDN', 'R': 'XNT'}, 'JHL': {'L': 'BRX', 'R': 'QBT'}, 'NTL': {'L': 'HSR', 'R': 'DJD'}, 'XBH': {'L': 'PJX', 'R': 'JQK'}, 'PPF': {'L': 'LCT', 'R': 'BJL'}, 'SFF': {'L': 'FVR', 'R': 'NFG'}, 'HNA': {'L': 'CTC', 'R': 'BSG'}, 'CNG': {'L': 'DXM', 'R': 'QFN'}, 'GML': {'L': 'NRD', 'R': 'TVN'}, 'RHH': {'L': 'NBT', 'R': 'LJH'}, 'LDM': {'L': 'DDN', 'R': 'TRN'}, 'XSK': {'L': 'PLB', 'R': 'NVJ'}, 'NCQ': {'L': 'MDN', 'R': 'XGT'}, 'FCQ': {'L': 'HCT', 'R': 'KCJ'}, 'DRC': {'L': 'JKL', 'R': 'JNM'}, 'SHR': {'L': 'KLX', 'R': 'VLH'}, 'FTP': {'L': 'DRN', 'R': 'DKV'}, 'QBF': {'L': 'GVS', 'R': 'NXK'}, 'GXK': {'L': 'XDK', 'R': 'LVF'}, 'KMK': {'L': 'VXV', 'R': 'XCS'}, 'PKK': {'L': 'QNJ', 'R': 'BRM'}, 'NJH': {'L': 'TKL', 'R': 'PQK'}, 'BRX': {'L': 'MNM', 'R': 'HVC'}, 'VTD': {'L': 'BJK', 'R': 'LML'}, 'QVX': {'L': 'DVJ', 'R': 'DSF'}, 'GRM': {'L': 'JCV', 'R': 'SQB'}, 'RDQ': {'L': 'HCG', 'R': 'XMB'}, 'RGX': {'L': 'FCN', 'R': 'TPD'}, 'HBH': {'L': 'FPR', 'R': 'DHX'}, 'PHM': {'L': 'JSP', 'R': 'RCR'}, 'NBT': {'L': 'FRG', 'R': 'CMJ'}, 'XRH': {'L': 'HCB', 'R': 'FBM'}, 'GMR': {'L': 'FDJ', 'R': 'NJD'}, 'MVG': {'L': 'RDJ', 'R': 'QSD'}, 'BDL': {'L': 'JSB', 'R': 'TFN'}, 'VXT': {'L': 'MBM', 'R': 'JND'}, 'TXC': {'L': 'QDG', 'R': 'LTV'}, 'SRL': {'L': 'RRX', 'R': 'NDS'}, 'SGN': {'L': 'MPL', 'R': 'CBB'}, 'HVH': {'L': 'SLJ', 'R': 'CBC'}, 'VPC': {'L': 'CCG', 'R': 'QSJ'}, 'KCJ': {'L': 'CKC', 'R': 'TTD'}, 'RLT': {'L': 'LLT', 'R': 'VVL'}, 'RXV': {'L': 'KXQ', 'R': 'VBR'}, 'FQS': {'L': 'STP', 'R': 'BHX'}, 'SGC': {'L': 'RLJ', 'R': 'QGB'}, 'XLX': {'L': 'HRG', 'R': 'DGV'}, 'XKV': {'L': 'QQB', 'R': 'TNQ'}, 'SLJ': {'L': 'GTB', 'R': 'MPF'}, 'PKV': {'L': 'CQN', 'R': 'THS'}, 'RPP': {'L': 'QFT', 'R': 'TNK'}, 'DKL': {'L': 'MFC', 'R': 'MFC'}, 'BCG': {'L': 'FXM', 'R': 'GPR'}, 'RFV': {'L': 'DRC', 'R': 'MPD'}, 'VVC': {'L': 'FGN', 'R': 'CVL'}, 'HQB': {'L': 'QNT', 'R': 'VVC'}, 'RRP': {'L': 'VVC', 'R': 'QNT'}, 'TRS': {'L': 'RCM', 'R': 'GHN'}, 'QBT': {'L': 'HVC', 'R': 'MNM'}, 'XKS': {'L': 'SCC', 'R': 'VXX'}, 'TPS': {'L': 'FMH', 'R': 'KFN'}, 'MTS': {'L': 'VXT', 'R': 'NQR'}, 'FXM': {'L': 'LDM', 'R': 'FQT'}, 'LNB': {'L': 'XJV', 'R': 'SJN'}, 'HVF': {'L': 'QXC', 'R': 'RBH'}, 'LSG': {'L': 'QHM', 'R': 'TSM'}, 'JMP': {'L': 'HBH', 'R': 'NQK'}, 'NGM': {'L': 'KDP', 'R': 'HHP'}, 'HCG': {'L': 'SLR', 'R': 'TSC'}, 'HGX': {'L': 'DFG', 'R': 'XQM'}, 'DLG': {'L': 'BVN', 'R': 'GMM'}, 'DJD': {'L': 'VGP', 'R': 'VML'}, 'HBT': {'L': 'XKL', 'R': 'JBQ'}, 'NVJ': {'L': 'GKX', 'R': 'PKS'}, 'CPS': {'L': 'PKJ', 'R': 'RSV'}, 'SKN': {'L': 'NBT', 'R': 'LJH'}, 'CCK': {'L': 'TTJ', 'R': 'SLV'}, 'DXM': {'L': 'CBN', 'R': 'BXR'}, 'RJD': {'L': 'XJH', 'R': 'SKH'}, 'RDJ': {'L': 'CNF', 'R': 'TTG'}, 'PKJ': {'L': 'BCM', 'R': 'XKC'}, 'FQL': {'L': 'SRV', 'R': 'DFC'}, 'KDS': {'L': 'MFB', 'R': 'CLQ'}, 'QKR': {'L': 'VGD', 'R': 'CXK'}, 'XXC': {'L': 'NFD', 'R': 'SPS'}, 'PSQ': {'L': 'NJH', 'R': 'BLR'}, 'BLR': {'L': 'PQK', 'R': 'TKL'}, 'LMX': {'L': 'DGV', 'R': 'HRG'}, 'GCK': {'L': 'CSR', 'R': 'CSR'}, 'GKJ': {'L': 'JHL', 'R': 'PNN'}, 'GVS': {'L': 'TLN', 'R': 'LJX'}, 'FPR': {'L': 'JCH', 'R': 'GKD'}, 'VQV': {'L': 'DGB', 'R': 'GGN'}, 'CPF': {'L': 'VMH', 'R': 'JQQ'}, 'GKD': {'L': 'SGF', 'R': 'PHM'}, 'JNM': {'L': 'LRX', 'R': 'FRD'}, 'CXV': {'L': 'LNF', 'R': 'HGF'}, 'TNK': {'L': 'RRD', 'R': 'HKC'}, 'DXX': {'L': 'LMC', 'R': 'ZZZ'}, 'DGG': {'L': 'PPF', 'R': 'TRR'}, 'MLH': {'L': 'TVL', 'R': 'PBR'}, 'LBC': {'L': 'LJL', 'R': 'FTR'}, 'FVQ': {'L': 'TBC', 'R': 'LKB'}, 'LTF': {'L': 'CBC', 'R': 'SLJ'}, 'TVH': {'L': 'XMS', 'R': 'GJS'}, 'SFB': {'L': 'TTJ', 'R': 'SLV'}, 'LVF': {'L': 'MBT', 'R': 'SJB'}, 'XPP': {'L': 'QDM', 'R': 'PJL'}, 'BVK': {'L': 'RPV', 'R': 'JMP'}, 'VGD': {'L': 'MRX', 'R': 'FJR'}, 'FRD': {'L': 'XBH', 'R': 'CDN'}, 'LKM': {'L': 'CMF', 'R': 'XNS'}, 'TCJ': {'L': 'MMS', 'R': 'PGG'}, 'DHQ': {'L': 'MTT', 'R': 'BKS'}, 'HDQ': {'L': 'GPH', 'R': 'XKH'}, 'KTJ': {'L': 'QQT', 'R': 'MKR'}, 'NMQ': {'L': 'VFK', 'R': 'VSD'}, 'RSK': {'L': 'QDM', 'R': 'PJL'}, 'XQC': {'L': 'KFP', 'R': 'HVB'}, 'LQN': {'L': 'NGM', 'R': 'XTG'}, 'TKG': {'L': 'XDQ', 'R': 'XDQ'}, 'KBB': {'L': 'VQR', 'R': 'HSX'}, 'TQQ': {'L': 'QDG', 'R': 'LTV'}, 'SQN': {'L': 'TDQ', 'R': 'XKV'}, 'TSM': {'L': 'TSH', 'R': 'MRP'}, 'KPH': {'L': 'THS', 'R': 'CQN'}, 'HCB': {'L': 'DVL', 'R': 'RTV'}, 'MLR': {'L': 'GHT', 'R': 'NSN'}, 'BFM': {'L': 'GCK', 'R': 'SLX'}, 'GXQ': {'L': 'QKM', 'R': 'JJL'}, 'GNF': {'L': 'HRQ', 'R': 'XTK'}, 'TRR': {'L': 'BJL', 'R': 'LCT'}, 'AAA': {'L': 'QNB', 'R': 'QCK'}, 'SDL': {'L': 'KJX', 'R': 'LSN'}, 'DKV': {'L': 'KBB', 'R': 'XVQ'}, 'RMR': {'L': 'MQR', 'R': 'CPR'}, 'MQC': {'L': 'CBV', 'R': 'SRP'}, 'PRV': {'L': 'KDS', 'R': 'FBX'}, 'GTB': {'L': 'CCK', 'R': 'SFB'}, 'SNP': {'L': 'PXX', 'R': 'SHR'}, 'NTR': {'L': 'VHT', 'R': 'KXK'}, 'MKJ': {'L': 'DDL', 'R': 'CVK'}, 'LSQ': {'L': 'HSF', 'R': 'RMN'}, 'TTJ': {'L': 'CBH', 'R': 'QKF'}, 'DNH': {'L': 'MVG', 'R': 'JCJ'}, 'KMM': {'L': 'KPH', 'R': 'PKV'}, 'NTT': {'L': 'RQK', 'R': 'PFK'}, 'QMF': {'L': 'BFM', 'R': 'PJB'}, 'RJB': {'L': 'RBH', 'R': 'QXC'}, 'LRS': {'L': 'MJT', 'R': 'BVM'}, 'CJG': {'L': 'RMR', 'R': 'BMN'}, 'DVQ': {'L': 'GXM', 'R': 'DDH'}, 'MFC': {'L': 'LMC', 'R': 'LMC'}, 'XTG': {'L': 'HHP', 'R': 'KDP'}, 'HKB': {'L': 'RDQ', 'R': 'TVT'}, 'PKS': {'L': 'JQM', 'R': 'DGG'}, 'BJK': {'L': 'KNX', 'R': 'MTG'}, 'TVT': {'L': 'XMB', 'R': 'HCG'}, 'JNR': {'L': 'JHG', 'R': 'JLN'}, 'VFK': {'L': 'XKS', 'R': 'QBH'}, 'NPC': {'L': 'PKK', 'R': 'BBD'}, 'PXX': {'L': 'KLX', 'R': 'VLH'}, 'XLC': {'L': 'NST', 'R': 'BXP'}, 'CBB': {'L': 'LMX', 'R': 'XLX'}, 'KLX': {'L': 'MSH', 'R': 'LCF'}, 'CLQ': {'L': 'JNF', 'R': 'JNC'}, 'TSS': {'L': 'MKR', 'R': 'QQT'}, 'SSS': {'L': 'RMQ', 'R': 'RCS'}, 'QSD': {'L': 'TTG', 'R': 'CNF'}, 'NHG': {'L': 'DVQ', 'R': 'VNB'}, 'CTC': {'L': 'VCN', 'R': 'RJD'}, 'THS': {'L': 'QRH', 'R': 'GPT'}, 'KDR': {'L': 'RTK', 'R': 'GKJ'}, 'NTD': {'L': 'CGG', 'R': 'SPN'}, 'GHP': {'L': 'NCQ', 'R': 'FCD'}, 'KXQ': {'L': 'RLS', 'R': 'VRM'}, 'GNV': {'L': 'BQJ', 'R': 'BCN'}, 'DXQ': {'L': 'QHC', 'R': 'FXN'}, 'RQB': {'L': 'FVQ', 'R': 'TNF'}, 'CNF': {'L': 'TXC', 'R': 'TQQ'}, 'BGB': {'L': 'QQS', 'R': 'LRV'}, 'ZZZ': {'L': 'QCK', 'R': 'QNB'}, 'NFM': {'L': 'MGV', 'R': 'VTD'}, 'MFD': {'L': 'DBF', 'R': 'KSN'}, 'NST': {'L': 'RGX', 'R': 'TTR'}, 'XJV': {'L': 'LGL', 'R': 'LGL'}, 'TRQ': {'L': 'TVH', 'R': 'KJL'}, 'PPV': {'L': 'CJP', 'R': 'VHH'}, 'DNV': {'L': 'DBM', 'R': 'VGJ'}, 'JBQ': {'L': 'MHL', 'R': 'RFN'}, 'HRG': {'L': 'JFD', 'R': 'VQP'}, 'RMB': {'L': 'JKJ', 'R': 'JGJ'}, 'RGQ': {'L': 'RSK', 'R': 'XPP'}, 'KHF': {'L': 'TJG', 'R': 'KPX'}, 'HPZ': {'L': 'BSG', 'R': 'CTC'}, 'LFJ': {'L': 'TSN', 'R': 'NMB'}, 'MBT': {'L': 'XRC', 'R': 'PJR'}, 'QFN': {'L': 'CBN', 'R': 'BXR'}, 'QSJ': {'L': 'BRS', 'R': 'BKF'}, 'XJH': {'L': 'RSF', 'R': 'VNP'}, 'GST': {'L': 'LVF', 'R': 'XDK'}, 'DDN': {'L': 'NMS', 'R': 'RLT'}, 'CXK': {'L': 'FJR', 'R': 'MRX'}, 'PHH': {'L': 'FPB', 'R': 'TCJ'}, 'XHV': {'L': 'KTJ', 'R': 'TSS'}, 'VHT': {'L': 'NPC', 'R': 'DMG'}, 'RNL': {'L': 'NHG', 'R': 'DVN'}, 'TKL': {'L': 'KPN', 'R': 'FKX'}, 'DGB': {'L': 'GPJ', 'R': 'QMF'}, 'PNN': {'L': 'QBT', 'R': 'BRX'}, 'TBC': {'L': 'NTR', 'R': 'FKG'}, 'PGS': {'L': 'QDT', 'R': 'JQL'}, 'SLX': {'L': 'CSR', 'R': 'LNB'}, 'BVV': {'L': 'LVC', 'R': 'FSJ'}, 'JQL': {'L': 'MLH', 'R': 'GSC'}, 'PXH': {'L': 'CJF', 'R': 'CKM'}, 'LHM': {'L': 'DSF', 'R': 'DVJ'}, 'NND': {'L': 'NTD', 'R': 'DTB'}, 'MFB': {'L': 'JNF', 'R': 'JNC'}, 'TTR': {'L': 'FCN', 'R': 'TPD'}, 'HRQ': {'L': 'JTD', 'R': 'JTD'}, 'SLR': {'L': 'TXT', 'R': 'JSN'}, 'VQP': {'L': 'XPK', 'R': 'XGB'}, 'QHM': {'L': 'MRP', 'R': 'TSH'}, 'RTJ': {'L': 'PXB', 'R': 'TLP'}, 'QQT': {'L': 'RRL', 'R': 'QHQ'}, 'CSR': {'L': 'XJV', 'R': 'XJV'}, 'CJP': {'L': 'CJG', 'R': 'HQQ'}, 'RMC': {'L': 'MPD', 'R': 'DRC'}, 'XMS': {'L': 'LXX', 'R': 'GPN'}, 'HSR': {'L': 'VGP', 'R': 'VML'}, 'MNM': {'L': 'VSS', 'R': 'QXR'}, 'SJN': {'L': 'LGL', 'R': 'LNZ'}, 'KBV': {'L': 'MJT', 'R': 'BVM'}, 'KFN': {'L': 'NRC', 'R': 'VSG'}, 'JNC': {'L': 'RHR', 'R': 'LFJ'}, 'MPF': {'L': 'SFB', 'R': 'CCK'}, 'QVK': {'L': 'GNK', 'R': 'BCG'}, 'NJD': {'L': 'KCG', 'R': 'LDB'}, 'DBM': {'L': 'MJG', 'R': 'MFD'}, 'NKF': {'L': 'GGN', 'R': 'DGB'}, 'BCN': {'L': 'JNR', 'R': 'MHK'}, 'GNK': {'L': 'FXM', 'R': 'GPR'}, 'KMT': {'L': 'HFC', 'R': 'CPS'}, 'FDJ': {'L': 'KCG', 'R': 'LDB'}, 'LVD': {'L': 'PHH', 'R': 'QDR'}, 'FCN': {'L': 'VDP', 'R': 'MQC'}, 'QQB': {'L': 'GJB', 'R': 'GJB'}, 'PLF': {'L': 'JNL', 'R': 'HBT'}, 'QDM': {'L': 'FPL', 'R': 'TFX'}, 'GXM': {'L': 'CLD', 'R': 'NNL'}, 'MRV': {'L': 'BCG', 'R': 'GNK'}, 'LKB': {'L': 'NTR', 'R': 'FKG'}, 'TTG': {'L': 'TQQ', 'R': 'TXC'}, 'GFD': {'L': 'VSD', 'R': 'VFK'}, 'RCS': {'L': 'KQQ', 'R': 'DNH'}, 'QXR': {'L': 'FCQ', 'R': 'LJF'}, 'HMQ': {'L': 'RJQ', 'R': 'FQL'}, 'VCN': {'L': 'SKH', 'R': 'XJH'}, 'QQG': {'L': 'HSR', 'R': 'DJD'}, 'HGF': {'L': 'RVC', 'R': 'TJD'}, 'XMB': {'L': 'TSC', 'R': 'SLR'}, 'PJB': {'L': 'GCK', 'R': 'SLX'}, 'HFC': {'L': 'RSV', 'R': 'PKJ'}, 'JJL': {'L': 'GXK', 'R': 'GST'}, 'QTN': {'L': 'JLV', 'R': 'SGX'}, 'KDP': {'L': 'GNV', 'R': 'BBT'}, 'VRF': {'L': 'TFN', 'R': 'JSB'}, 'GPN': {'L': 'CPF', 'R': 'SRQ'}, 'TSC': {'L': 'TXT', 'R': 'JSN'}, 'CRF': {'L': 'QSJ', 'R': 'CCG'}, 'TNF': {'L': 'TBC', 'R': 'LKB'}, 'VLH': {'L': 'LCF', 'R': 'MSH'}, 'BCV': {'L': 'JSC', 'R': 'KMT'}, 'NNL': {'L': 'KVX', 'R': 'FQS'}, 'RVT': {'L': 'HCB', 'R': 'FBM'}, 'QHC': {'L': 'QKV', 'R': 'NCJ'}, 'VDP': {'L': 'CBV', 'R': 'SRP'}, 'CBV': {'L': 'VQV', 'R': 'NKF'}, 'CMF': {'L': 'XHV', 'R': 'TPR'}, 'TRN': {'L': 'RLT', 'R': 'NMS'}, 'JSB': {'L': 'XTH', 'R': 'TRS'}, 'CFC': {'L': 'TVT', 'R': 'RDQ'}, 'KDL': {'L': 'TKG', 'R': 'TKG'}, 'TTD': {'L': 'BBC', 'R': 'GHP'}, 'KJR': {'L': 'PXX', 'R': 'SHR'}, 'MTV': {'L': 'GVS', 'R': 'NXK'}, 'BVN': {'L': 'KDR', 'R': 'PVP'}, 'DXB': {'L': 'RPV', 'R': 'JMP'}, 'FSJ': {'L': 'QPQ', 'R': 'GML'}, 'PBJ': {'L': 'LQN', 'R': 'KTL'}, 'PXB': {'L': 'BDL', 'R': 'VRF'}, 'NDS': {'L': 'BGB', 'R': 'NGX'}, 'CBN': {'L': 'KMK', 'R': 'TDR'}, 'NFG': {'L': 'VLN', 'R': 'PRV'}, 'JTD': {'L': 'PGS', 'R': 'PGS'}, 'MKR': {'L': 'QHQ', 'R': 'RRL'}, 'JSN': {'L': 'RFV', 'R': 'RMC'}, 'CVK': {'L': 'SFF', 'R': 'JNG'}, 'FGN': {'L': 'BVQ', 'R': 'XQC'}, 'HHF': {'L': 'RPS', 'R': 'QQF'}, 'PLB': {'L': 'PKS', 'R': 'GKX'}, 'BJB': {'L': 'QMC', 'R': 'GPG'}, 'STP': {'L': 'QTN', 'R': 'GMG'}, 'DGK': {'L': 'RKK', 'R': 'BVT'}, 'JJM': {'L': 'VGD', 'R': 'CXK'}, 'LTS': {'L': 'QPN', 'R': 'BCL'}, 'LVC': {'L': 'QPQ', 'R': 'GML'}, 'QNB': {'L': 'GJN', 'R': 'RVB'}, 'RBH': {'L': 'HMQ', 'R': 'HPS'}, 'NQK': {'L': 'DHX', 'R': 'FPR'}, 'MRP': {'L': 'BDT', 'R': 'SGN'}, 'JQM': {'L': 'TRR', 'R': 'PPF'}, 'TSH': {'L': 'BDT', 'R': 'SGN'}, 'JLN': {'L': 'JCC', 'R': 'FCB'}, 'BRP': {'L': 'LDX', 'R': 'CGC'}, 'SJC': {'L': 'HRQ', 'R': 'HRQ'}, 'LJL': {'L': 'BVB', 'R': 'PPV'}, 'SPN': {'L': 'SDL', 'R': 'VHM'}, 'SDM': {'L': 'DDF', 'R': 'LTS'}, 'LJH': {'L': 'FRG', 'R': 'CMJ'}, 'CMG': {'L': 'MKD', 'R': 'JGT'}, 'GPR': {'L': 'LDM', 'R': 'FQT'}, 'QPQ': {'L': 'NRD', 'R': 'TVN'}, 'JCJ': {'L': 'RDJ', 'R': 'QSD'}, 'HSX': {'L': 'CMG', 'R': 'SHF'}, 'VML': {'L': 'RMB', 'R': 'MHC'}, 'DHX': {'L': 'JCH', 'R': 'GKD'}, 'MTG': {'L': 'FPX', 'R': 'SPD'}, 'BDT': {'L': 'MPL', 'R': 'CBB'}, 'CJC': {'L': 'PBL', 'R': 'KRR'}, 'JLS': {'L': 'LJL', 'R': 'FTR'}, 'HQF': {'L': 'LQN', 'R': 'KTL'}, 'HQQ': {'L': 'RMR', 'R': 'BMN'}, 'QMC': {'L': 'RBP', 'R': 'PXD'}, 'RPV': {'L': 'HBH', 'R': 'NQK'}, 'JHG': {'L': 'JCC', 'R': 'FCB'}, 'TPD': {'L': 'VDP', 'R': 'MQC'}, 'BHQ': {'L': 'XKH', 'R': 'GPH'}, 'XKC': {'L': 'HDD', 'R': 'GXR'}, 'RPS': {'L': 'KJP', 'R': 'KJP'}, 'QNT': {'L': 'CVL', 'R': 'FGN'}, 'JSC': {'L': 'HFC', 'R': 'CPS'}, 'KXG': {'L': 'DTB', 'R': 'NTD'}, 'CKM': {'L': 'RTJ', 'R': 'MCG'}, 'FTD': {'L': 'KPX', 'R': 'TJG'}, 'VSD': {'L': 'XKS', 'R': 'QBH'}, 'MCG': {'L': 'TLP', 'R': 'PXB'}, 'XKH': {'L': 'HLP', 'R': 'CXV'}, 'TNB': {'L': 'CJF', 'R': 'CKM'}, 'XTH': {'L': 'RCM', 'R': 'GHN'}, 'DFN': {'L': 'GMR', 'R': 'DSS'}, 'LMF': {'L': 'TKG', 'R': 'XST'}, 'FMH': {'L': 'NRC', 'R': 'VSG'}, 'XCS': {'L': 'JTS', 'R': 'GRM'}, 'GVF': {'L': 'NDS', 'R': 'RRX'}, 'CXM': {'L': 'HGX', 'R': 'PMS'}, 'VRM': {'L': 'XJT', 'R': 'DXQ'}, 'JLV': {'L': 'QVX', 'R': 'LHM'}, 'JCH': {'L': 'PHM', 'R': 'SGF'}, 'NMS': {'L': 'VVL', 'R': 'LLT'}, 'BHS': {'L': 'XJR', 'R': 'LKM'}, 'CKC': {'L': 'BBC', 'R': 'GHP'}, 'CBH': {'L': 'XLC', 'R': 'PBT'}, 'PRL': {'L': 'QFT', 'R': 'TNK'}, 'SDF': {'L': 'VTD', 'R': 'MGV'}, 'RVB': {'L': 'MLR', 'R': 'XHT'}, 'GPT': {'L': 'PLF', 'R': 'MJX'}, 'KRR': {'L': 'RVT', 'R': 'XRH'}, 'GXR': {'L': 'BVV', 'R': 'BRR'}, 'NSN': {'L': 'RGQ', 'R': 'JMQ'}, 'KJX': {'L': 'TCR', 'R': 'MSL'}, 'PHL': {'L': 'TSM', 'R': 'QHM'}, 'MQR': {'L': 'MTS', 'R': 'GKB'}, 'XDK': {'L': 'SJB', 'R': 'MBT'}, 'NRC': {'L': 'DGN', 'R': 'BJB'}, 'JQQ': {'L': 'LBC', 'R': 'JLS'}, 'JTS': {'L': 'JCV', 'R': 'SQB'}, 'RLJ': {'L': 'JJM', 'R': 'QKR'}, 'DTB': {'L': 'CGG', 'R': 'SPN'}, 'BRS': {'L': 'PXH', 'R': 'TNB'}, 'SRV': {'L': 'SPC', 'R': 'DNV'}, 'MNP': {'L': 'JJL', 'R': 'QKM'}, 'KTQ': {'L': 'XSK', 'R': 'XSK'}, 'FPX': {'L': 'SJC', 'R': 'GNF'}, 'VBR': {'L': 'VRM', 'R': 'RLS'}, 'KSN': {'L': 'HQB', 'R': 'RRP'}, 'RJQ': {'L': 'SRV', 'R': 'DFC'}, 'BKS': {'L': 'BVK', 'R': 'DXB'}, 'BVB': {'L': 'VHH', 'R': 'CJP'}, 'XTK': {'L': 'JTD', 'R': 'JTH'}, 'PBT': {'L': 'BXP', 'R': 'NST'}, 'PVP': {'L': 'RTK', 'R': 'GKJ'}, 'QPN': {'L': 'BCV', 'R': 'QBS'}, 'QQF': {'L': 'KJP', 'R': 'HPZ'}, 'QRH': {'L': 'PLF', 'R': 'MJX'}, 'GHS': {'L': 'BKN', 'R': 'TPS'}, 'RCM': {'L': 'MNP', 'R': 'GXQ'}, 'DCT': {'L': 'DDF', 'R': 'LTS'}, 'JLC': {'L': 'HGX', 'R': 'PMS'}, 'VNC': {'L': 'XSK', 'R': 'CXZ'}, 'BQJ': {'L': 'MHK', 'R': 'JNR'}, 'SHF': {'L': 'JGT', 'R': 'MKD'}, 'FXN': {'L': 'QKV', 'R': 'NCJ'}, 'FPB': {'L': 'PGG', 'R': 'MMS'}, 'JGJ': {'L': 'KXG', 'R': 'NND'}, 'VBM': {'L': 'PSQ', 'R': 'QKN'}, 'GKX': {'L': 'DGG', 'R': 'JQM'}, 'DSF': {'L': 'KMM', 'R': 'DFJ'}, 'CMJ': {'L': 'GPK', 'R': 'MKJ'}, 'NCJ': {'L': 'SDM', 'R': 'DCT'}, 'MKD': {'L': 'GQG', 'R': 'DHQ'}, 'CFZ': {'L': 'RQB', 'R': 'SHH'}, 'RQK': {'L': 'DKL', 'R': 'DKL'}, 'XGT': {'L': 'HPQ', 'R': 'VRQ'}, 'SRP': {'L': 'NKF', 'R': 'VQV'}, 'BSG': {'L': 'VCN', 'R': 'RJD'}, 'XRC': {'L': 'NFM', 'R': 'SDF'}, 'DVL': {'L': 'SRL', 'R': 'GVF'}, 'HVB': {'L': 'HXS', 'R': 'MLD'}, 'MPD': {'L': 'JNM', 'R': 'JKL'}, 'JSP': {'L': 'PHL', 'R': 'LSG'}, 'BCR': {'L': 'XJR', 'R': 'LKM'}, 'PQK': {'L': 'KPN', 'R': 'FKX'}, 'FCD': {'L': 'XGT', 'R': 'MDN'}, 'MDL': {'L': 'JLC', 'R': 'CXM'}, 'FBX': {'L': 'CLQ', 'R': 'MFB'}, 'VNP': {'L': 'RGM', 'R': 'GHS'}, 'HMK': {'L': 'RMN', 'R': 'HSF'}, 'SJB': {'L': 'PJR', 'R': 'XRC'}, 'JFD': {'L': 'XPK', 'R': 'XGB'}, 'HHP': {'L': 'GNV', 'R': 'BBT'}, 'TVN': {'L': 'VBM', 'R': 'KJN'}, 'DMG': {'L': 'PKK', 'R': 'BBD'}, 'RGM': {'L': 'BKN', 'R': 'TPS'}, 'TRF': {'L': 'KXQ', 'R': 'VBR'}, 'XHT': {'L': 'NSN', 'R': 'GHT'}, 'DFJ': {'L': 'KPH', 'R': 'PKV'}, 'KJP': {'L': 'CTC', 'R': 'BSG'}, 'LLT': {'L': 'NTS', 'R': 'LVD'}, 'RMN': {'L': 'SNP', 'R': 'KJR'}, 'GSC': {'L': 'TVL', 'R': 'PBR'}, 'RSV': {'L': 'XKC', 'R': 'BCM'}, 'TLP': {'L': 'VRF', 'R': 'BDL'}, 'GGN': {'L': 'GPJ', 'R': 'QMF'}, 'XJR': {'L': 'CMF', 'R': 'XNS'}, 'GQG': {'L': 'BKS', 'R': 'MTT'}, 'JPN': {'L': 'MRV', 'R': 'QVK'}, 'RSF': {'L': 'RGM', 'R': 'GHS'}, 'QQS': {'L': 'DLG', 'R': 'JPV'}, 'DGV': {'L': 'VQP', 'R': 'JFD'}, 'JDN': {'L': 'XNT', 'R': 'BDN'}, 'LMA': {'L': 'QDT', 'R': 'JQL'}, 'QDG': {'L': 'QGC', 'R': 'DTX'}, 'HDD': {'L': 'BVV', 'R': 'BRR'}, 'RRD': {'L': 'CNG', 'R': 'XLJ'}, 'QBH': {'L': 'VXX', 'R': 'SCC'}, 'GPH': {'L': 'HLP', 'R': 'CXV'}, 'CVN': {'L': 'MRV', 'R': 'QVK'}, 'RLS': {'L': 'XJT', 'R': 'DXQ'}, 'QKN': {'L': 'NJH', 'R': 'BLR'}, 'NRD': {'L': 'VBM', 'R': 'KJN'}, 'NMB': {'L': 'HVF', 'R': 'RJB'}, 'XNT': {'L': 'RXV', 'R': 'TRF'}, 'XNS': {'L': 'XHV', 'R': 'TPR'}, 'SGX': {'L': 'LHM', 'R': 'QVX'}, 'NTS': {'L': 'PHH', 'R': 'QDR'}, 'SPS': {'L': 'LTF', 'R': 'HVH'}, 'KPX': {'L': 'BCR', 'R': 'BHS'}, 'GNM': {'L': 'RPS', 'R': 'RPS'}, 'CXZ': {'L': 'NVJ', 'R': 'PLB'}, 'VVL': {'L': 'LVD', 'R': 'NTS'}, 'VTC': {'L': 'NHG', 'R': 'DVN'}, 'PXD': {'L': 'BHH', 'R': 'SSS'}, 'TVL': {'L': 'MKT', 'R': 'BRP'}, 'TPR': {'L': 'KTJ', 'R': 'TSS'}, 'MJX': {'L': 'JNL', 'R': 'HBT'}, 'BKN': {'L': 'FMH', 'R': 'KFN'}, 'MBM': {'L': 'BVC', 'R': 'FTP'}, 'RTV': {'L': 'GVF', 'R': 'SRL'}, 'GPG': {'L': 'PXD', 'R': 'RBP'}, 'KXK': {'L': 'DMG', 'R': 'NPC'}, 'JPV': {'L': 'GMM', 'R': 'BVN'}, 'LXP': {'L': 'VPC', 'R': 'CRF'}, 'RMQ': {'L': 'DNH', 'R': 'KQQ'}, 'DRN': {'L': 'KBB', 'R': 'XVQ'}, 'MMS': {'L': 'XXC', 'R': 'NDL'}, 'GMG': {'L': 'SGX', 'R': 'JLV'}, 'MJT': {'L': 'KHF', 'R': 'FTD'}, 'XJT': {'L': 'QHC', 'R': 'FXN'}, 'JMQ': {'L': 'XPP', 'R': 'RSK'}, 'QCS': {'L': 'TVH', 'R': 'KJL'}, 'BVC': {'L': 'DRN', 'R': 'DKV'}, 'SPC': {'L': 'DBM', 'R': 'VGJ'}, 'SHH': {'L': 'TNF', 'R': 'FVQ'}, 'VGA': {'L': 'PLB', 'R': 'NVJ'}, 'RKK': {'L': 'JPN', 'R': 'CVN'}, 'SCC': {'L': 'TRQ', 'R': 'QCS'}, 'CDN': {'L': 'JQK', 'R': 'PJX'}, 'VSS': {'L': 'LJF', 'R': 'FCQ'}, 'JNF': {'L': 'LFJ', 'R': 'RHR'}, 'VGP': {'L': 'MHC', 'R': 'RMB'}, 'VGJ': {'L': 'MJG', 'R': 'MFD'}, 'QGC': {'L': 'RHH', 'R': 'SKN'}, 'RKJ': {'L': 'KTQ', 'R': 'VNC'}, 'DTX': {'L': 'SKN', 'R': 'RHH'}, 'HPQ': {'L': 'VDR', 'R': 'SGC'}, 'CCG': {'L': 'BRS', 'R': 'BKF'}, 'VLN': {'L': 'FBX', 'R': 'KDS'}, 'BHH': {'L': 'RMQ', 'R': 'RCS'}, 'BBC': {'L': 'FCD', 'R': 'NCQ'}, 'JCV': {'L': 'GNM', 'R': 'GNM'}, 'TNQ': {'L': 'GJB', 'R': 'RKJ'}, 'QNJ': {'L': 'NGH', 'R': 'XTV'}, 'GHT': {'L': 'RGQ', 'R': 'JMQ'}, 'LJX': {'L': 'CFC', 'R': 'HKB'}, 'TLN': {'L': 'HKB', 'R': 'CFC'}, 'PFK': {'L': 'DKL', 'R': 'LFL'}, 'PJR': {'L': 'SDF', 'R': 'NFM'}, 'JNG': {'L': 'NFG', 'R': 'FVR'}, 'PJX': {'L': 'BHQ', 'R': 'HDQ'}, 'VHH': {'L': 'CJG', 'R': 'HQQ'}, 'RTK': {'L': 'PNN', 'R': 'JHL'}, 'XGB': {'L': 'MLN', 'R': 'SQN'}, 'JCC': {'L': 'NQX', 'R': 'NTT'}, 'BVT': {'L': 'CVN', 'R': 'JPN'}, 'HPS': {'L': 'RJQ', 'R': 'FQL'}, 'TCR': {'L': 'DFN', 'R': 'RHS'}, 'LLA': {'L': 'SHH', 'R': 'RQB'}, 'NGX': {'L': 'QQS', 'R': 'LRV'}, 'SLV': {'L': 'CBH', 'R': 'QKF'}, 'BMN': {'L': 'CPR', 'R': 'MQR'}, 'XKL': {'L': 'RFN', 'R': 'MHL'}, 'CGG': {'L': 'VHM', 'R': 'SDL'}, 'KJN': {'L': 'PSQ', 'R': 'QKN'}, 'LDB': {'L': 'KDL', 'R': 'LMF'}, 'SPD': {'L': 'SJC', 'R': 'GNF'}, 'VDR': {'L': 'RLJ', 'R': 'QGB'}, 'DDF': {'L': 'QPN', 'R': 'BCL'}, 'KQQ': {'L': 'MVG', 'R': 'JCJ'}, 'DSS': {'L': 'FDJ', 'R': 'NJD'}, 'NFD': {'L': 'HVH', 'R': 'LTF'}, 'GPJ': {'L': 'BFM', 'R': 'PJB'}, 'LGL': {'L': 'DQL', 'R': 'CJC'}, 'TDQ': {'L': 'QQB', 'R': 'TNQ'}, 'RCR': {'L': 'PHL', 'R': 'LSG'}, 'SKH': {'L': 'VNP', 'R': 'RSF'}, 'DGN': {'L': 'QMC', 'R': 'GPG'}, 'NGH': {'L': 'RNL', 'R': 'VTC'}, 'TSN': {'L': 'HVF', 'R': 'RJB'}, 'MGV': {'L': 'LML', 'R': 'BJK'}, 'QHQ': {'L': 'LXP', 'R': 'NMC'}, 'KJL': {'L': 'GJS', 'R': 'XMS'}, 'RBP': {'L': 'BHH', 'R': 'SSS'}, 'QDR': {'L': 'FPB', 'R': 'TCJ'}, 'RHR': {'L': 'NMB', 'R': 'TSN'}, 'NXK': {'L': 'LJX', 'R': 'TLN'}, 'FCB': {'L': 'NQX', 'R': 'NTT'}, 'TFN': {'L': 'TRS', 'R': 'XTH'}, 'MJG': {'L': 'KSN', 'R': 'DBF'}, 'BVQ': {'L': 'KFP', 'R': 'HVB'}, 'GMM': {'L': 'PVP', 'R': 'KDR'}, 'MDN': {'L': 'VRQ', 'R': 'HPQ'}, 'LTV': {'L': 'DTX', 'R': 'QGC'}, 'LRV': {'L': 'DLG', 'R': 'JPV'}, 'MHC': {'L': 'JKJ', 'R': 'JGJ'}, 'DFC': {'L': 'DNV', 'R': 'SPC'}, 'LXV': {'L': 'SHH', 'R': 'RQB'}, 'PBL': {'L': 'RVT', 'R': 'XRH'}, 'BDN': {'L': 'RXV', 'R': 'TRF'}, 'JKJ': {'L': 'KXG', 'R': 'NND'}, 'MSH': {'L': 'MTV', 'R': 'QBF'}, 'NDL': {'L': 'SPS', 'R': 'NFD'}, 'FKG': {'L': 'VHT', 'R': 'KXK'}, 'PBR': {'L': 'MKT', 'R': 'BRP'}, 'VSG': {'L': 'BJB', 'R': 'DGN'}, 'RRX': {'L': 'BGB', 'R': 'NGX'}, 'NQR': {'L': 'JND', 'R': 'MBM'}, 'MRX': {'L': 'MHX', 'R': 'SBX'}, 'DVN': {'L': 'DVQ', 'R': 'VNB'}, 'HKC': {'L': 'CNG', 'R': 'XLJ'}, 'PGT': {'L': 'JXR', 'R': 'DGK'}, 'DBF': {'L': 'HQB', 'R': 'RRP'}, 'FRG': {'L': 'GPK', 'R': 'MKJ'}, 'DFG': {'L': 'NMQ', 'R': 'GFD'}, 'QDT': {'L': 'MLH', 'R': 'GSC'}, 'KVX': {'L': 'STP', 'R': 'BHX'}, 'LCT': {'L': 'MDL', 'R': 'KCL'}, 'LSN': {'L': 'TCR', 'R': 'MSL'}, 'TXT': {'L': 'RMC', 'R': 'RFV'}, 'MXM': {'L': 'LXV', 'R': 'CFZ'}, 'TJG': {'L': 'BHS', 'R': 'BCR'}, 'BCM': {'L': 'GXR', 'R': 'HDD'}, 'FKX': {'L': 'NTL', 'R': 'QQG'}, 'SRQ': {'L': 'JQQ', 'R': 'VMH'}, 'BCL': {'L': 'BCV', 'R': 'QBS'}, 'LRX': {'L': 'CDN', 'R': 'XBH'}, 'RHS': {'L': 'DSS', 'R': 'GMR'}, 'CLD': {'L': 'FQS', 'R': 'KVX'}, 'XLJ': {'L': 'DXM', 'R': 'QFN'}, 'KCL': {'L': 'CXM', 'R': 'JLC'}, 'HXS': {'L': 'PRL', 'R': 'RPP'}, 'JND': {'L': 'BVC', 'R': 'FTP'}, 'VQR': {'L': 'SHF', 'R': 'CMG'}, 'VNB': {'L': 'DDH', 'R': 'GXM'}, 'QGB': {'L': 'JJM', 'R': 'QKR'}, 'CVL': {'L': 'BVQ', 'R': 'XQC'}, 'RFN': {'L': 'JDN', 'R': 'TLX'}, 'FBM': {'L': 'DVL', 'R': 'RTV'}, 'TFX': {'L': 'LSQ', 'R': 'HMK'}, 'XQM': {'L': 'NMQ', 'R': 'GFD'}, 'BJL': {'L': 'KCL', 'R': 'MDL'}, 'FTR': {'L': 'PPV', 'R': 'BVB'}, 'KNX': {'L': 'FPX', 'R': 'SPD'}, 'MHK': {'L': 'JHG', 'R': 'JLN'}, 'TDR': {'L': 'XCS', 'R': 'VXV'}, 'HVC': {'L': 'VSS', 'R': 'QXR'}, 'QXC': {'L': 'HPS', 'R': 'HMQ'}, 'RRL': {'L': 'NMC', 'R': 'LXP'}, 'MLD': {'L': 'PRL', 'R': 'RPP'}, 'LCF': {'L': 'MTV', 'R': 'QBF'}, 'VXV': {'L': 'JTS', 'R': 'GRM'}, 'XTV': {'L': 'RNL', 'R': 'VTC'}, 'LFL': {'L': 'MFC', 'R': 'DXX'}, 'CBC': {'L': 'GTB', 'R': 'MPF'}, 'CQN': {'L': 'GPT', 'R': 'QRH'}, 'DDH': {'L': 'NNL', 'R': 'CLD'}, 'GHN': {'L': 'GXQ', 'R': 'MNP'}, 'JGT': {'L': 'DHQ', 'R': 'GQG'}, 'HCT': {'L': 'CKC', 'R': 'TTD'}, 'QCK': {'L': 'GJN', 'R': 'RVB'}, 'SGF': {'L': 'JSP', 'R': 'RCR'}, 'MPL': {'L': 'XLX', 'R': 'LMX'}, 'XDQ': {'L': 'LXV', 'R': 'LXV'}, 'MLN': {'L': 'TDQ', 'R': 'XKV'}, 'SGZ': {'L': 'JQL', 'R': 'QDT'}, 'VRQ': {'L': 'SGC', 'R': 'VDR'}, 'FPL': {'L': 'LSQ', 'R': 'HMK'}, 'SQB': {'L': 'GNM', 'R': 'HHF'}, 'MHX': {'L': 'PGT', 'R': 'JGN'}, 'QFT': {'L': 'HKC', 'R': 'RRD'}, 'LXX': {'L': 'CPF', 'R': 'SRQ'}, 'CPR': {'L': 'GKB', 'R': 'MTS'}, 'HLP': {'L': 'LNF', 'R': 'HGF'}, 'GJS': {'L': 'GPN', 'R': 'LXX'}, 'QKV': {'L': 'DCT', 'R': 'SDM'}, 'XST': {'L': 'XDQ', 'R': 'MXM'}, 'VXX': {'L': 'QCS', 'R': 'TRQ'}, 'KFP': {'L': 'HXS', 'R': 'MLD'}, 'MSL': {'L': 'RHS', 'R': 'DFN'}, 'NQX': {'L': 'RQK', 'R': 'PFK'}, 'CGC': {'L': 'LRS', 'R': 'KBV'}, 'FQT': {'L': 'TRN', 'R': 'DDN'}, 'VMH': {'L': 'LBC', 'R': 'JLS'}, 'VHM': {'L': 'LSN', 'R': 'KJX'}, 'JXR': {'L': 'BVT', 'R': 'RKK'}, 'KPN': {'L': 'QQG', 'R': 'NTL'}, 'QKM': {'L': 'GST', 'R': 'GXK'}, 'JNL': {'L': 'XKL', 'R': 'JBQ'}, 'BVM': {'L': 'KHF', 'R': 'FTD'}, 'XPK': {'L': 'SQN', 'R': 'MLN'}, 'GJN': {'L': 'MLR', 'R': 'XHT'}}\n"
     ]
    }
   ],
   "source": [
    "#the below does exactly the same thing as above in a more elegant way\n",
    "#directions: This variable receives the first value (first line) from the list obtained from reading the file.\n",
    "#_: This is a throwaway variable that conventionally signifies that the value is intended to be ignored. \n",
    "#It captures and discards the second value (second line) from the list.\n",
    "#*str_lr: This uses the asterisk * to capture the remaining values (lines) from the list into a list called str_lr\n",
    "#The * operator gathers multiple values into a list.\n",
    "\n",
    "#Essentially, this line of code reads the contents of the 'day8_input.txt' file, assumes the first line contains '\n",
    "#directions', discards the second line using _, and collects the rest of the lines into a list called str_lr\n",
    "\n",
    "#=======================================================\n",
    "\n",
    "#ANOTHER EXAMPLE \n",
    "#Example below shows if you want to ignore line 2 and line 3 and start from 4th line\n",
    "#directions, *_str_ways = open('resources/day8_input.txt').read().splitlines()[0:1] + \n",
    "#\\open('resources/day8_input.txt').read().splitlines()[4:]\n",
    "\n",
    "directions, _, *str_lr = open('resources/day8_input.txt').read().splitlines()\n",
    "left_right = {lr[0:3]: {'L': lr[7:10], 'R': lr[12:15]} for lr in str_lr}\n",
    "print(directions)\n",
    "print(left_right)"
   ]
  },
  {
   "cell_type": "markdown",
   "id": "ed1d8450",
   "metadata": {},
   "source": [
    "## PART 1"
   ]
  },
  {
   "cell_type": "code",
   "execution_count": 13,
   "id": "0a7c04f2",
   "metadata": {},
   "outputs": [
    {
     "name": "stdout",
     "output_type": "stream",
     "text": [
      "Part 1 14429\n",
      "Part 2 14429\n"
     ]
    }
   ],
   "source": [
    "## Solution from Reddit: Synedh\n",
    "\n",
    "from itertools import cycle\n",
    "\n",
    "directions, _, *str_ways = open('resources/day8_input.txt').read().splitlines()\n",
    "ways = {way[0:3]: {'L': way[7:10], 'R': way[12:15]} for way in str_ways}\n",
    "#print(ways)\n",
    "\n",
    "positions = [way for way in ways if way.endswith('AAA')]\n",
    "totals = [0] * len(positions)\n",
    "for i, pos in enumerate(positions):\n",
    "    c = cycle(directions)\n",
    "    while not pos.endswith('ZZZ'):\n",
    "        totals[i] += 1\n",
    "        pos = ways[pos][next(c)]\n",
    "\n",
    "print('Part 1', totals[0]) # AAA is the first and goes to ZZZ\n",
    "print('Part 2', math.lcm(*totals))"
   ]
  },
  {
   "cell_type": "code",
   "execution_count": 5,
   "id": "4bf3e0bf",
   "metadata": {},
   "outputs": [],
   "source": [
    "# #Find all the directions & movements\n",
    "\n",
    "# alphabets = text.splitlines()\n",
    "# #print(alphabets[0])\n",
    "\n",
    "# direction = alphabets[0]\n",
    "# mapping = alphabets[2:]\n",
    "\n",
    "\n",
    "# print(direction)\n",
    "# print(mapping)\n",
    "\n",
    "# # Create a cycle iterator from a list\n",
    "# cycle_map = cycle(mapping)\n",
    "\n",
    "# traversal = 0\n",
    "# start = 'AAA'\n",
    " \n",
    "# for i  in range(0,len(mapping),1):\n",
    "\n",
    "#     print(mapping[i])\n",
    "#     original = re.findall(r'([^\\s=]+)(?=\\s*=\\s*)', mapping[i])\n",
    "#     paths = re.findall(r'(?<=\\=\\s)([^=]+)', mapping[i])\n",
    "    \n",
    "#     print(f'Alphabets before: {original}')\n",
    "#     print(f'Alphabets after: {paths}')\n",
    "    \n",
    "#     left = re.findall(r'\\(([^)]+)\\,', mapping[i])\n",
    "#     right = re.findall(r'\\, ([^)]+)\\)', mapping[i])\n",
    "#     print(f'Left: {left}')\n",
    "#     print(f'Right: {right}')\n",
    "    \n",
    "#     if direction[i] == 'L':\n",
    "#         start = left\n",
    "#         print(f'New Start: {start}')\n",
    "#     elif direction[i] == 'R':\n",
    "#         start = right\n",
    "#         print(f'New Start: {start}')        \n",
    "    \n",
    "\n",
    "#     if start == 'ZZZ':\n",
    "#         print(f'{start} Found!')\n",
    "#         break\n",
    "        \n",
    "#     traversal +=1\n",
    "\n",
    "# print(f'Traversal times: {traversal}')\n",
    "    "
   ]
  },
  {
   "cell_type": "code",
   "execution_count": 6,
   "id": "277abe38-4c8d-42c2-a81d-5b4753ad4429",
   "metadata": {},
   "outputs": [],
   "source": [
    "# from math import gcd\n",
    "\n",
    "# #def lcm(a,b):\n",
    "# #    return (a * b) // gcd(a, b)\n",
    "\n",
    "# def lcm(*integers):\n",
    "#     a = integers[0]\n",
    "#     for b in integers[1:]:\n",
    "#         a = (a * b) // gcd (a, b)\n",
    "#     return a"
   ]
  },
  {
   "cell_type": "code",
   "execution_count": 7,
   "id": "863dabb3",
   "metadata": {},
   "outputs": [
    {
     "name": "stdout",
     "output_type": "stream",
     "text": [
      "['AAA']\n",
      "Index: 0, Value: AAA\n",
      "Index: 0, Value: BBB\n",
      "Index: 0, Value: AAA\n",
      "Index: 0, Value: BBB\n",
      "Index: 0, Value: AAA\n",
      "Index: 0, Value: BBB\n",
      "Index: 0, Value: AAA\n",
      "Index: 0, Value: BBB\n",
      "Index: 0, Value: AAA\n",
      "Index: 0, Value: BBB\n",
      "Index: 0, Value: ZZZ\n",
      "Part 1 10\n"
     ]
    }
   ],
   "source": [
    "#start with first position where the value is: 'AAA': {'L': 'BBB', 'R': 'BBB'}\n",
    "positions = [lr for lr in left_right if lr.startswith('AAA')]\n",
    "print(positions)\n",
    "\n",
    "# Create a new list 'totals' filled with zeros, the same length as 'positions'\n",
    "totals = 0\n",
    "\n",
    "for i, pos in enumerate(positions): #range of positions is 1 as this list only contain one value\n",
    "    c = cycle(directions)\n",
    "    while not pos.startswith('ZZZ'): #is the current value in positions 'ZZZ'?\n",
    "        print(f'Index: {i}, Value: {pos}')\n",
    "        totals += 1 \n",
    "        pos = left_right[pos][next(c)]\n",
    "    \n",
    "    print(f'Index: {i}, Value: {pos}')\n",
    "\n",
    "print('Part 1', totals) # AAA is the first and goes to ZZZ"
   ]
  },
  {
   "cell_type": "code",
   "execution_count": 8,
   "id": "812095d6",
   "metadata": {},
   "outputs": [
    {
     "name": "stdout",
     "output_type": "stream",
     "text": [
      "Python 3.11.5\r\n"
     ]
    }
   ],
   "source": [
    "!python -V"
   ]
  },
  {
   "cell_type": "markdown",
   "id": "20269baf",
   "metadata": {},
   "source": [
    "## PART 2"
   ]
  },
  {
   "cell_type": "code",
   "execution_count": 9,
   "id": "a75b46a6",
   "metadata": {},
   "outputs": [
    {
     "name": "stdout",
     "output_type": "stream",
     "text": [
      "24\n"
     ]
    }
   ],
   "source": [
    "import math\n",
    "\n",
    "# Usage of lcm function\n",
    "result = math.lcm(4, 6, 8)  # Replace 10 and 15 with your desired numbers\n",
    "print(result)"
   ]
  },
  {
   "cell_type": "code",
   "execution_count": 15,
   "id": "b8c9a584",
   "metadata": {},
   "outputs": [
    {
     "name": "stdout",
     "output_type": "stream",
     "text": [
      "[0, 0, 0, 0, 0, 0]\n",
      "Index: 0, Value: LNZ\n",
      "Index: 1, Value: HPZ\n",
      "Index: 2, Value: ZZZ\n",
      "Index: 3, Value: SGZ\n",
      "Index: 4, Value: CXZ\n",
      "Index: 5, Value: CFZ\n",
      "Part 2 10921547990923\n"
     ]
    }
   ],
   "source": [
    "#start with first position where the value ends with: 'A': {'L': 'BBB', 'R': 'BBB'}\n",
    "positions = [lr for lr in left_right if lr.endswith('A')]\n",
    "#print(positions)\n",
    "\n",
    "# Create a new list 'totals' filled with zeros, the same length as 'positions'\n",
    "totals = [0] * len(positions) # Output: [0, 0, 0, 0, 0]\n",
    "print(totals)\n",
    "for i, pos in enumerate(positions): #range of positions is 1 as this list only contain one value\n",
    "    c = cycle(directions)\n",
    "    while not pos.endswith('Z'): #is the current value in positions that ends with 'Z'?\n",
    "        #print(f'Index: {i}, Value: {pos}')\n",
    "        totals[i] += 1 \n",
    "        pos = left_right[pos][next(c)]\n",
    "    \n",
    "    print(f'Index: {i}, Value: {pos}')\n",
    "\n",
    "#least common multiple (LCM) of two & more integers\n",
    "print('Part 2', math.lcm(*totals))"
   ]
  },
  {
   "cell_type": "code",
   "execution_count": null,
   "id": "0639a437",
   "metadata": {},
   "outputs": [],
   "source": []
  }
 ],
 "metadata": {
  "kernelspec": {
   "display_name": "Python 3 (ipykernel)",
   "language": "python",
   "name": "python3"
  },
  "language_info": {
   "codemirror_mode": {
    "name": "ipython",
    "version": 3
   },
   "file_extension": ".py",
   "mimetype": "text/x-python",
   "name": "python",
   "nbconvert_exporter": "python",
   "pygments_lexer": "ipython3",
   "version": "3.11.5"
  }
 },
 "nbformat": 4,
 "nbformat_minor": 5
}
